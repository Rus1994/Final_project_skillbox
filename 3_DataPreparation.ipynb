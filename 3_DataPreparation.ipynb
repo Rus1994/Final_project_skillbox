{
 "cells": [
  {
   "cell_type": "code",
   "execution_count": 1,
   "metadata": {},
   "outputs": [],
   "source": [
    "import pandas as pd\n",
    "import numpy as np\n",
    "import matplotlib.pyplot as plt\n",
    "from sklearn.preprocessing import OneHotEncoder\n",
    "from sklearn.preprocessing import StandardScaler, MinMaxScaler\n",
    "from category_encoders.binary import BinaryEncoder\n",
    "import seaborn as sns"
   ]
  },
  {
   "cell_type": "code",
   "execution_count": 2,
   "metadata": {},
   "outputs": [
    {
     "name": "stderr",
     "output_type": "stream",
     "text": [
      "C:\\Users\\mirzo\\anaconda3\\lib\\site-packages\\IPython\\core\\interactiveshell.py:3063: DtypeWarning: Columns (2) have mixed types.Specify dtype option on import or set low_memory=False.\n",
      "  interactivity=interactivity, compiler=compiler, result=result)\n"
     ]
    }
   ],
   "source": [
    "df = pd.read_csv(r\"data/sessions.csv\", index_col=0);"
   ]
  },
  {
   "cell_type": "code",
   "execution_count": 8,
   "metadata": {},
   "outputs": [
    {
     "data": {
      "text/plain": [
       "(216801, 11)"
      ]
     },
     "execution_count": 8,
     "metadata": {},
     "output_type": "execute_result"
    }
   ],
   "source": [
    "df.shape"
   ]
  },
  {
   "cell_type": "code",
   "execution_count": 5,
   "metadata": {},
   "outputs": [
    {
     "data": {
      "text/html": [
       "<div>\n",
       "<style scoped>\n",
       "    .dataframe tbody tr th:only-of-type {\n",
       "        vertical-align: middle;\n",
       "    }\n",
       "\n",
       "    .dataframe tbody tr th {\n",
       "        vertical-align: top;\n",
       "    }\n",
       "\n",
       "    .dataframe thead th {\n",
       "        text-align: right;\n",
       "    }\n",
       "</style>\n",
       "<table border=\"1\" class=\"dataframe\">\n",
       "  <thead>\n",
       "    <tr style=\"text-align: right;\">\n",
       "      <th></th>\n",
       "      <th>utm_source</th>\n",
       "      <th>utm_medium</th>\n",
       "      <th>utm_campaign</th>\n",
       "      <th>utm_adcontent</th>\n",
       "      <th>device_category</th>\n",
       "      <th>device_brand</th>\n",
       "      <th>device_screen_resolution</th>\n",
       "      <th>device_browser</th>\n",
       "      <th>geo_country</th>\n",
       "      <th>geo_city</th>\n",
       "      <th>is_target_action</th>\n",
       "    </tr>\n",
       "  </thead>\n",
       "  <tbody>\n",
       "    <tr>\n",
       "      <th>0</th>\n",
       "      <td>ZpYIoDJMcFzVoPFsHGJL</td>\n",
       "      <td>banner</td>\n",
       "      <td>LEoPHuyFvzoNfnzGgfcd</td>\n",
       "      <td>vCIpmpaGBnIQhyYNkXqp</td>\n",
       "      <td>mobile</td>\n",
       "      <td>Huawei</td>\n",
       "      <td>360x720</td>\n",
       "      <td>Chrome</td>\n",
       "      <td>Russia</td>\n",
       "      <td>Zlatoust</td>\n",
       "      <td>0</td>\n",
       "    </tr>\n",
       "    <tr>\n",
       "      <th>1</th>\n",
       "      <td>MvfHsxITijuriZxsqZqt</td>\n",
       "      <td>cpm</td>\n",
       "      <td>FTjNLDyTrXaWYgZymFkV</td>\n",
       "      <td>xhoenQgDQsgfEPYNPwKO</td>\n",
       "      <td>mobile</td>\n",
       "      <td>Samsung</td>\n",
       "      <td>385x854</td>\n",
       "      <td>Samsung Internet</td>\n",
       "      <td>Russia</td>\n",
       "      <td>Moscow</td>\n",
       "      <td>0</td>\n",
       "    </tr>\n",
       "    <tr>\n",
       "      <th>2</th>\n",
       "      <td>ZpYIoDJMcFzVoPFsHGJL</td>\n",
       "      <td>banner</td>\n",
       "      <td>LEoPHuyFvzoNfnzGgfcd</td>\n",
       "      <td>vCIpmpaGBnIQhyYNkXqp</td>\n",
       "      <td>mobile</td>\n",
       "      <td>Huawei</td>\n",
       "      <td>360x720</td>\n",
       "      <td>Chrome</td>\n",
       "      <td>Russia</td>\n",
       "      <td>Krasnoyarsk</td>\n",
       "      <td>0</td>\n",
       "    </tr>\n",
       "    <tr>\n",
       "      <th>5</th>\n",
       "      <td>kjsLglQLzykiRbcDiGcD</td>\n",
       "      <td>organic</td>\n",
       "      <td>LTuZkdKfxRGVceoWkVyg</td>\n",
       "      <td>JNHcPlZPxEMWDnRiyoBf</td>\n",
       "      <td>mobile</td>\n",
       "      <td>Apple</td>\n",
       "      <td>375x812</td>\n",
       "      <td>Safari</td>\n",
       "      <td>Russia</td>\n",
       "      <td>Saint Petersburg</td>\n",
       "      <td>0</td>\n",
       "    </tr>\n",
       "    <tr>\n",
       "      <th>6</th>\n",
       "      <td>TxKUcPpthBDPieTGmVhx</td>\n",
       "      <td>cpc</td>\n",
       "      <td>FTjNLDyTrXaWYgZymFkV</td>\n",
       "      <td>LcGIUNPUAmXtQJaDfFBR</td>\n",
       "      <td>tablet</td>\n",
       "      <td>Lenovo</td>\n",
       "      <td>602x1029</td>\n",
       "      <td>YaBrowser</td>\n",
       "      <td>Russia</td>\n",
       "      <td>Saint Petersburg</td>\n",
       "      <td>0</td>\n",
       "    </tr>\n",
       "  </tbody>\n",
       "</table>\n",
       "</div>"
      ],
      "text/plain": [
       "             utm_source utm_medium          utm_campaign  \\\n",
       "0  ZpYIoDJMcFzVoPFsHGJL     banner  LEoPHuyFvzoNfnzGgfcd   \n",
       "1  MvfHsxITijuriZxsqZqt        cpm  FTjNLDyTrXaWYgZymFkV   \n",
       "2  ZpYIoDJMcFzVoPFsHGJL     banner  LEoPHuyFvzoNfnzGgfcd   \n",
       "5  kjsLglQLzykiRbcDiGcD    organic  LTuZkdKfxRGVceoWkVyg   \n",
       "6  TxKUcPpthBDPieTGmVhx        cpc  FTjNLDyTrXaWYgZymFkV   \n",
       "\n",
       "          utm_adcontent device_category device_brand device_screen_resolution  \\\n",
       "0  vCIpmpaGBnIQhyYNkXqp          mobile       Huawei                  360x720   \n",
       "1  xhoenQgDQsgfEPYNPwKO          mobile      Samsung                  385x854   \n",
       "2  vCIpmpaGBnIQhyYNkXqp          mobile       Huawei                  360x720   \n",
       "5  JNHcPlZPxEMWDnRiyoBf          mobile        Apple                  375x812   \n",
       "6  LcGIUNPUAmXtQJaDfFBR          tablet       Lenovo                 602x1029   \n",
       "\n",
       "     device_browser geo_country          geo_city  is_target_action  \n",
       "0            Chrome      Russia          Zlatoust                 0  \n",
       "1  Samsung Internet      Russia            Moscow                 0  \n",
       "2            Chrome      Russia       Krasnoyarsk                 0  \n",
       "5            Safari      Russia  Saint Petersburg                 0  \n",
       "6         YaBrowser      Russia  Saint Petersburg                 0  "
      ]
     },
     "execution_count": 5,
     "metadata": {},
     "output_type": "execute_result"
    }
   ],
   "source": [
    "df.head()"
   ]
  },
  {
   "cell_type": "code",
   "execution_count": 6,
   "metadata": {},
   "outputs": [
    {
     "data": {
      "text/plain": [
       "Index(['utm_source', 'utm_medium', 'utm_campaign', 'utm_adcontent',\n",
       "       'device_category', 'device_brand', 'device_screen_resolution',\n",
       "       'device_browser', 'geo_country', 'geo_city', 'is_target_action'],\n",
       "      dtype='object')"
      ]
     },
     "execution_count": 6,
     "metadata": {},
     "output_type": "execute_result"
    }
   ],
   "source": [
    "df.columns"
   ]
  },
  {
   "cell_type": "code",
   "execution_count": 5,
   "metadata": {},
   "outputs": [],
   "source": [
    "def create_new_feat(df: pd.DataFrame, inplace=False):\n",
    "    df_new = df if inplace else df.copy()\n",
    "    df_new['screen_area'] = df_new.device_screen_resolution.apply(lambda screen: np.prod([int(size) for size in screen.split('x')]))\n",
    "    df_new = df_new.drop(['device_screen_resolution'], axis=1)\n",
    "    return df_new"
   ]
  },
  {
   "cell_type": "code",
   "execution_count": 6,
   "metadata": {},
   "outputs": [],
   "source": [
    "def scale_numeric_feat(df: pd.DataFrame, inplace=False):\n",
    "    df_new = df if inplace else df.copy()\n",
    "    scaler = StandardScaler()\n",
    "    df_new['screen_area_scl'] = scaler.fit_transform(df_new[['screen_area']])\n",
    "    df_new = df_new.drop(['screen_area'], axis=1)\n",
    "    return df_new"
   ]
  },
  {
   "cell_type": "code",
   "execution_count": 7,
   "metadata": {},
   "outputs": [],
   "source": [
    "def category_coder(df: pd.DataFrame, inplace=False):\n",
    "    df_new = df if inplace else df.copy()\n",
    "    encoder = BinaryEncoder()\n",
    "    obj_cols = list(df_new.dtypes[df_new.dtypes == 'object'].index)\n",
    "    df_obj_cols = df_new[obj_cols]\n",
    "    df_new.drop(obj_cols, axis=1, inplace=True)\n",
    "    encoder.fit(df_obj_cols)\n",
    "    df_new[encoder.get_feature_names_out()] = encoder.transform(df_obj_cols)\n",
    "    return df_new"
   ]
  },
  {
   "cell_type": "code",
   "execution_count": 37,
   "metadata": {},
   "outputs": [],
   "source": [
    "def preprocess(df: pd.DataFrame, inplace=False):\n",
    "    df_new = df if inplace else df.copy()     \n",
    "    \n",
    "    df_new = create_new_feat(df_new, inplace=inplace)\n",
    "    print(\"create_new_feat\")\n",
    "    \n",
    "    df_new = scale_numeric_feat(df_new, inplace=inplace)\n",
    "    print(\"scale_numeric_feat\")\n",
    "    \n",
    "    df_new = category_coder(df_new, inplace=inplace)\n",
    "    print(\"category_coder\")\n",
    "    return df_new"
   ]
  },
  {
   "cell_type": "markdown",
   "metadata": {},
   "source": [
    "Конверсия 2.9%"
   ]
  },
  {
   "cell_type": "code",
   "execution_count": 9,
   "metadata": {},
   "outputs": [],
   "source": [
    "df_old = df.copy()"
   ]
  },
  {
   "cell_type": "code",
   "execution_count": 36,
   "metadata": {},
   "outputs": [],
   "source": [
    "df = df_old.copy()"
   ]
  },
  {
   "cell_type": "code",
   "execution_count": 39,
   "metadata": {},
   "outputs": [
    {
     "name": "stdout",
     "output_type": "stream",
     "text": [
      "delete_data\n",
      "create_new_feat\n",
      "scale_numeric_feat\n",
      "category_coder\n"
     ]
    }
   ],
   "source": [
    "df = preprocess(df, inplace=True)"
   ]
  },
  {
   "cell_type": "code",
   "execution_count": 45,
   "metadata": {},
   "outputs": [],
   "source": [
    "df.to_csv(r\"data/session_prepared_binCoder.csv\")"
   ]
  },
  {
   "cell_type": "code",
   "execution_count": null,
   "metadata": {},
   "outputs": [],
   "source": []
  }
 ],
 "metadata": {
  "kernelspec": {
   "display_name": "Python 3",
   "language": "python",
   "name": "python3"
  },
  "language_info": {
   "codemirror_mode": {
    "name": "ipython",
    "version": 3
   },
   "file_extension": ".py",
   "mimetype": "text/x-python",
   "name": "python",
   "nbconvert_exporter": "python",
   "pygments_lexer": "ipython3",
   "version": "3.7.6"
  }
 },
 "nbformat": 4,
 "nbformat_minor": 4
}
