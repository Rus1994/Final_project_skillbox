{
 "cells": [
  {
   "cell_type": "code",
   "execution_count": 1,
   "metadata": {},
   "outputs": [],
   "source": [
    "import pandas as pd\n",
    "import numpy as np\n",
    "import matplotlib.pyplot as plt\n",
    "from sklearn.preprocessing import OneHotEncoder\n",
    "from sklearn.preprocessing import StandardScaler, MinMaxScaler"
   ]
  },
  {
   "cell_type": "code",
   "execution_count": 2,
   "metadata": {},
   "outputs": [
    {
     "name": "stderr",
     "output_type": "stream",
     "text": [
      "C:\\Users\\mirzo\\AppData\\Local\\Temp\\ipykernel_10168\\1064089342.py:1: DtypeWarning: Columns (2) have mixed types. Specify dtype option on import or set low_memory=False.\n",
      "  df = pd.read_csv(r\"data/sessions.csv\", index_col=0)\n"
     ]
    }
   ],
   "source": [
    "df = pd.read_csv(r\"data/sessions.csv\", index_col=0)"
   ]
  },
  {
   "cell_type": "code",
   "execution_count": 3,
   "metadata": {},
   "outputs": [],
   "source": [
    "def delete_without_answer(df: pd.DataFrame):\n",
    "    return df[df.is_target_action != -1]"
   ]
  },
  {
   "cell_type": "code",
   "execution_count": 4,
   "metadata": {},
   "outputs": [],
   "source": [
    "def delete_data(df: pd.DataFrame):\n",
    "    df_new = df.drop(['client_id', 'session_id', 'utm_keyword', 'device_os', 'device_model', 'device_brand'], axis=1)\n",
    "    return df_new.dropna()"
   ]
  },
  {
   "cell_type": "code",
   "execution_count": 5,
   "metadata": {},
   "outputs": [],
   "source": [
    "def to_types(df: pd.DataFrame, inplace=False):\n",
    "    df_new = df if inplace else df.copy()\n",
    "    df_new['visit_datetime'] = pd.to_datetime(df_new.apply(lambda x: x[\"visit_date\"] + ' ' + x[\"visit_time\"], axis=1))\n",
    "    df_new = df_new.drop(['visit_date', 'visit_time'], axis=1)\n",
    "    return df_new"
   ]
  },
  {
   "cell_type": "code",
   "execution_count": 6,
   "metadata": {},
   "outputs": [],
   "source": [
    "def screen_area(screen_resol: pd.Series):\n",
    "    return screen_resol.apply(lambda screen: np.prod([int(size) for size in screen.split('x')]))"
   ]
  },
  {
   "cell_type": "code",
   "execution_count": 7,
   "metadata": {},
   "outputs": [],
   "source": [
    "def visit_num_to_category(visit_num: pd.Series):\n",
    "    def get_cat(vn):\n",
    "        boundaries = (20, 100)\n",
    "        for i, val in enumerate(boundaries):\n",
    "            if val > vn:\n",
    "                return i\n",
    "        return len(boundaries)\n",
    "    return visit_num.apply(get_cat)"
   ]
  },
  {
   "cell_type": "code",
   "execution_count": 8,
   "metadata": {},
   "outputs": [],
   "source": [
    "def create_new_feat(df: pd.DataFrame, inplace=False):\n",
    "    df_new = df if inplace else df.copy()\n",
    "    df_new['screen_area'] = screen_area(df_new.device_screen_resolution)\n",
    "    df_new['visit_number_cat'] = visit_num_to_category(df_new.visit_number)\n",
    "    return df_new"
   ]
  },
  {
   "cell_type": "code",
   "execution_count": 9,
   "metadata": {},
   "outputs": [],
   "source": [
    "def scale_numeric_feat(df: pd.DataFrame, inplace=False):\n",
    "    df_new = df if inplace else df.copy()\n",
    "    scaler = StandardScaler()\n",
    "    df_new['screen_area_scl'] = scaler.fit_transform(df_new[['screen_area']])\n",
    "    return df_new"
   ]
  },
  {
   "cell_type": "code",
   "execution_count": 10,
   "metadata": {},
   "outputs": [],
   "source": [
    "def transform_datetime_feat(df: pd.DataFrame, inplace=False):\n",
    "    def transform_trigonomy(num, diap_min, diap_max):\n",
    "        arg = 2*np.pi * (diap_max - num) / (diap_max - diap_min)\n",
    "        return (np.cos(arg), np.sin(arg))\n",
    "    \n",
    "    df_new = df if inplace else df.copy()\n",
    "    df_new['year'] = df.visit_datetime.apply(lambda dt: dt.year)\n",
    "    df_new['weekday_c'] = df.visit_datetime.apply(lambda dt: transform_trigonomy(dt.day_of_week, 0, 6)[0])\n",
    "    df_new['weekday_s'] = df.visit_datetime.apply(lambda dt: transform_trigonomy(dt.day_of_week, 0, 6)[1])\n",
    "    df_new['day_of_year_c'] = df.visit_datetime.apply(lambda dt: transform_trigonomy(dt.day_of_year, 1, 366 if dt.is_leap_year else 365)[0])\n",
    "    df_new['day_of_year_s'] = df.visit_datetime.apply(lambda dt: transform_trigonomy(dt.day_of_year, 1, 366 if dt.is_leap_year else 365)[1])\n",
    "    df_new['time_c'] = df.visit_datetime.apply(lambda dt: transform_trigonomy(dt.hour * 60 + dt.minute, 0, 1439)[0])\n",
    "    df_new['time_s'] = df.visit_datetime.apply(lambda dt: transform_trigonomy(dt.hour * 60 + dt.minute, 0, 1439)[1])\n",
    "    return df_new"
   ]
  },
  {
   "cell_type": "code",
   "execution_count": 11,
   "metadata": {},
   "outputs": [],
   "source": [
    "def preprocess(df: pd.DataFrame):\n",
    "    df_new = df.copy()\n",
    "    df_new = delete_without_answer(df_new)\n",
    "    df_new = delete_data(df_new)\n",
    "    df_new = to_types(df_new)\n",
    "    df_new = create_new_feat(df_new)\n",
    "    df_new = scale_numeric_feat(df_new)\n",
    "    df_new = transform_datetime_feat(df_new)\n",
    "    return df_new"
   ]
  },
  {
   "cell_type": "markdown",
   "metadata": {},
   "source": [
    "Конверсия 2.9%"
   ]
  },
  {
   "cell_type": "markdown",
   "metadata": {},
   "source": [
    "Идея: количество визитов преобразовать в категории разбив на интервалы"
   ]
  },
  {
   "cell_type": "code",
   "execution_count": 12,
   "metadata": {},
   "outputs": [],
   "source": [
    "df_old = df.copy()"
   ]
  },
  {
   "cell_type": "code",
   "execution_count": 13,
   "metadata": {},
   "outputs": [],
   "source": [
    "df = preprocess(df)"
   ]
  },
  {
   "cell_type": "code",
   "execution_count": 14,
   "metadata": {},
   "outputs": [
    {
     "data": {
      "text/html": [
       "<div>\n",
       "<style scoped>\n",
       "    .dataframe tbody tr th:only-of-type {\n",
       "        vertical-align: middle;\n",
       "    }\n",
       "\n",
       "    .dataframe tbody tr th {\n",
       "        vertical-align: top;\n",
       "    }\n",
       "\n",
       "    .dataframe thead th {\n",
       "        text-align: right;\n",
       "    }\n",
       "</style>\n",
       "<table border=\"1\" class=\"dataframe\">\n",
       "  <thead>\n",
       "    <tr style=\"text-align: right;\">\n",
       "      <th></th>\n",
       "      <th>visit_number</th>\n",
       "      <th>utm_source</th>\n",
       "      <th>utm_medium</th>\n",
       "      <th>utm_campaign</th>\n",
       "      <th>utm_adcontent</th>\n",
       "      <th>device_category</th>\n",
       "      <th>device_screen_resolution</th>\n",
       "      <th>device_browser</th>\n",
       "      <th>geo_country</th>\n",
       "      <th>geo_city</th>\n",
       "      <th>...</th>\n",
       "      <th>screen_area</th>\n",
       "      <th>visit_number_cat</th>\n",
       "      <th>screen_area_scl</th>\n",
       "      <th>year</th>\n",
       "      <th>weekday_c</th>\n",
       "      <th>weekday_s</th>\n",
       "      <th>day_of_year_c</th>\n",
       "      <th>day_of_year_s</th>\n",
       "      <th>time_c</th>\n",
       "      <th>time_s</th>\n",
       "    </tr>\n",
       "  </thead>\n",
       "  <tbody>\n",
       "    <tr>\n",
       "      <th>0</th>\n",
       "      <td>1</td>\n",
       "      <td>ZpYIoDJMcFzVoPFsHGJL</td>\n",
       "      <td>banner</td>\n",
       "      <td>LEoPHuyFvzoNfnzGgfcd</td>\n",
       "      <td>vCIpmpaGBnIQhyYNkXqp</td>\n",
       "      <td>mobile</td>\n",
       "      <td>360x720</td>\n",
       "      <td>Chrome</td>\n",
       "      <td>Russia</td>\n",
       "      <td>Zlatoust</td>\n",
       "      <td>...</td>\n",
       "      <td>259200</td>\n",
       "      <td>0</td>\n",
       "      <td>-0.473727</td>\n",
       "      <td>2021</td>\n",
       "      <td>-0.5</td>\n",
       "      <td>-8.660254e-01</td>\n",
       "      <td>0.802886</td>\n",
       "      <td>0.596132</td>\n",
       "      <td>-0.775472</td>\n",
       "      <td>0.631382</td>\n",
       "    </tr>\n",
       "    <tr>\n",
       "      <th>1</th>\n",
       "      <td>1</td>\n",
       "      <td>MvfHsxITijuriZxsqZqt</td>\n",
       "      <td>cpm</td>\n",
       "      <td>FTjNLDyTrXaWYgZymFkV</td>\n",
       "      <td>xhoenQgDQsgfEPYNPwKO</td>\n",
       "      <td>mobile</td>\n",
       "      <td>385x854</td>\n",
       "      <td>Samsung Internet</td>\n",
       "      <td>Russia</td>\n",
       "      <td>Moscow</td>\n",
       "      <td>...</td>\n",
       "      <td>328790</td>\n",
       "      <td>0</td>\n",
       "      <td>-0.369922</td>\n",
       "      <td>2021</td>\n",
       "      <td>1.0</td>\n",
       "      <td>0.000000e+00</td>\n",
       "      <td>0.688563</td>\n",
       "      <td>0.725176</td>\n",
       "      <td>-0.578385</td>\n",
       "      <td>-0.815764</td>\n",
       "    </tr>\n",
       "    <tr>\n",
       "      <th>2</th>\n",
       "      <td>1</td>\n",
       "      <td>ZpYIoDJMcFzVoPFsHGJL</td>\n",
       "      <td>banner</td>\n",
       "      <td>LEoPHuyFvzoNfnzGgfcd</td>\n",
       "      <td>vCIpmpaGBnIQhyYNkXqp</td>\n",
       "      <td>mobile</td>\n",
       "      <td>360x720</td>\n",
       "      <td>Chrome</td>\n",
       "      <td>Russia</td>\n",
       "      <td>Krasnoyarsk</td>\n",
       "      <td>...</td>\n",
       "      <td>259200</td>\n",
       "      <td>0</td>\n",
       "      <td>-0.473727</td>\n",
       "      <td>2021</td>\n",
       "      <td>0.5</td>\n",
       "      <td>-8.660254e-01</td>\n",
       "      <td>0.998659</td>\n",
       "      <td>0.051761</td>\n",
       "      <td>0.760087</td>\n",
       "      <td>-0.649821</td>\n",
       "    </tr>\n",
       "    <tr>\n",
       "      <th>5</th>\n",
       "      <td>1</td>\n",
       "      <td>kjsLglQLzykiRbcDiGcD</td>\n",
       "      <td>organic</td>\n",
       "      <td>LTuZkdKfxRGVceoWkVyg</td>\n",
       "      <td>JNHcPlZPxEMWDnRiyoBf</td>\n",
       "      <td>mobile</td>\n",
       "      <td>375x812</td>\n",
       "      <td>Safari</td>\n",
       "      <td>Russia</td>\n",
       "      <td>Saint Petersburg</td>\n",
       "      <td>...</td>\n",
       "      <td>304500</td>\n",
       "      <td>0</td>\n",
       "      <td>-0.406155</td>\n",
       "      <td>2021</td>\n",
       "      <td>1.0</td>\n",
       "      <td>-2.449294e-16</td>\n",
       "      <td>-0.851284</td>\n",
       "      <td>-0.524704</td>\n",
       "      <td>-0.999998</td>\n",
       "      <td>0.002183</td>\n",
       "    </tr>\n",
       "    <tr>\n",
       "      <th>6</th>\n",
       "      <td>1</td>\n",
       "      <td>TxKUcPpthBDPieTGmVhx</td>\n",
       "      <td>cpc</td>\n",
       "      <td>FTjNLDyTrXaWYgZymFkV</td>\n",
       "      <td>LcGIUNPUAmXtQJaDfFBR</td>\n",
       "      <td>tablet</td>\n",
       "      <td>602x1029</td>\n",
       "      <td>YaBrowser</td>\n",
       "      <td>Russia</td>\n",
       "      <td>Saint Petersburg</td>\n",
       "      <td>...</td>\n",
       "      <td>619458</td>\n",
       "      <td>0</td>\n",
       "      <td>0.063657</td>\n",
       "      <td>2021</td>\n",
       "      <td>-1.0</td>\n",
       "      <td>1.224647e-16</td>\n",
       "      <td>0.999851</td>\n",
       "      <td>0.017261</td>\n",
       "      <td>-0.695827</td>\n",
       "      <td>-0.718210</td>\n",
       "    </tr>\n",
       "  </tbody>\n",
       "</table>\n",
       "<p>5 rows × 22 columns</p>\n",
       "</div>"
      ],
      "text/plain": [
       "   visit_number            utm_source utm_medium          utm_campaign  \\\n",
       "0             1  ZpYIoDJMcFzVoPFsHGJL     banner  LEoPHuyFvzoNfnzGgfcd   \n",
       "1             1  MvfHsxITijuriZxsqZqt        cpm  FTjNLDyTrXaWYgZymFkV   \n",
       "2             1  ZpYIoDJMcFzVoPFsHGJL     banner  LEoPHuyFvzoNfnzGgfcd   \n",
       "5             1  kjsLglQLzykiRbcDiGcD    organic  LTuZkdKfxRGVceoWkVyg   \n",
       "6             1  TxKUcPpthBDPieTGmVhx        cpc  FTjNLDyTrXaWYgZymFkV   \n",
       "\n",
       "          utm_adcontent device_category device_screen_resolution  \\\n",
       "0  vCIpmpaGBnIQhyYNkXqp          mobile                  360x720   \n",
       "1  xhoenQgDQsgfEPYNPwKO          mobile                  385x854   \n",
       "2  vCIpmpaGBnIQhyYNkXqp          mobile                  360x720   \n",
       "5  JNHcPlZPxEMWDnRiyoBf          mobile                  375x812   \n",
       "6  LcGIUNPUAmXtQJaDfFBR          tablet                 602x1029   \n",
       "\n",
       "     device_browser geo_country          geo_city  ...  screen_area  \\\n",
       "0            Chrome      Russia          Zlatoust  ...       259200   \n",
       "1  Samsung Internet      Russia            Moscow  ...       328790   \n",
       "2            Chrome      Russia       Krasnoyarsk  ...       259200   \n",
       "5            Safari      Russia  Saint Petersburg  ...       304500   \n",
       "6         YaBrowser      Russia  Saint Petersburg  ...       619458   \n",
       "\n",
       "  visit_number_cat  screen_area_scl  year  weekday_c     weekday_s  \\\n",
       "0                0        -0.473727  2021       -0.5 -8.660254e-01   \n",
       "1                0        -0.369922  2021        1.0  0.000000e+00   \n",
       "2                0        -0.473727  2021        0.5 -8.660254e-01   \n",
       "5                0        -0.406155  2021        1.0 -2.449294e-16   \n",
       "6                0         0.063657  2021       -1.0  1.224647e-16   \n",
       "\n",
       "   day_of_year_c  day_of_year_s    time_c    time_s  \n",
       "0       0.802886       0.596132 -0.775472  0.631382  \n",
       "1       0.688563       0.725176 -0.578385 -0.815764  \n",
       "2       0.998659       0.051761  0.760087 -0.649821  \n",
       "5      -0.851284      -0.524704 -0.999998  0.002183  \n",
       "6       0.999851       0.017261 -0.695827 -0.718210  \n",
       "\n",
       "[5 rows x 22 columns]"
      ]
     },
     "execution_count": 14,
     "metadata": {},
     "output_type": "execute_result"
    }
   ],
   "source": [
    "df.head()"
   ]
  },
  {
   "cell_type": "code",
   "execution_count": 15,
   "metadata": {},
   "outputs": [
    {
     "data": {
      "text/plain": [
       "count    1413265.0\n",
       "mean        2021.0\n",
       "std            0.0\n",
       "min         2021.0\n",
       "25%         2021.0\n",
       "50%         2021.0\n",
       "75%         2021.0\n",
       "max         2021.0\n",
       "Name: year, dtype: float64"
      ]
     },
     "execution_count": 15,
     "metadata": {},
     "output_type": "execute_result"
    }
   ],
   "source": [
    "df.year.describe()"
   ]
  },
  {
   "cell_type": "code",
   "execution_count": null,
   "metadata": {},
   "outputs": [],
   "source": []
  }
 ],
 "metadata": {
  "kernelspec": {
   "display_name": "Python 3 (ipykernel)",
   "language": "python",
   "name": "python3"
  },
  "language_info": {
   "codemirror_mode": {
    "name": "ipython",
    "version": 3
   },
   "file_extension": ".py",
   "mimetype": "text/x-python",
   "name": "python",
   "nbconvert_exporter": "python",
   "pygments_lexer": "ipython3",
   "version": "3.9.12"
  }
 },
 "nbformat": 4,
 "nbformat_minor": 4
}
