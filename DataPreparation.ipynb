{
 "cells": [
  {
   "cell_type": "code",
   "execution_count": 1,
   "metadata": {},
   "outputs": [],
   "source": [
    "import csv\n",
    "import pandas as pd\n",
    "import numpy as np\n",
    "import matplotlib.pyplot as plt\n",
    "from sklearn.preprocessing import OneHotEncoder\n",
    "from sklearn.preprocessing import StandardScaler, MinMaxScaler"
   ]
  },
  {
   "cell_type": "code",
   "execution_count": 23,
   "metadata": {},
   "outputs": [
    {
     "name": "stderr",
     "output_type": "stream",
     "text": [
      "C:\\Users\\mirzo\\anaconda3\\lib\\site-packages\\IPython\\core\\interactiveshell.py:3063: DtypeWarning: Columns (2) have mixed types.Specify dtype option on import or set low_memory=False.\n",
      "  interactivity=interactivity, compiler=compiler, result=result)\n"
     ]
    }
   ],
   "source": [
    "df = pd.read_csv(r\"data/sessions.csv\", index_col=0);"
   ]
  },
  {
   "cell_type": "code",
   "execution_count": 24,
   "metadata": {},
   "outputs": [],
   "source": [
    "def delete_without_answer(df: pd.DataFrame):\n",
    "    return df[df.is_target_action != -1]"
   ]
  },
  {
   "cell_type": "code",
   "execution_count": 25,
   "metadata": {},
   "outputs": [],
   "source": [
    "def delete_data(df: pd.DataFrame):\n",
    "    df_new = df.drop(['client_id', 'session_id', 'utm_keyword', 'device_os', 'device_model', 'device_brand'], axis=1)\n",
    "    return df_new.dropna()"
   ]
  },
  {
   "cell_type": "code",
   "execution_count": 26,
   "metadata": {},
   "outputs": [],
   "source": [
    "def to_types(df: pd.DataFrame, inplace=False):\n",
    "    df_new = df if inplace else df.copy()\n",
    "    df_new['visit_datetime'] = pd.to_datetime(df_new.apply(lambda x: x[\"visit_date\"] + ' ' + x[\"visit_time\"], axis=1))\n",
    "    df_new = df_new.drop(['visit_date', 'visit_time'], axis=1)\n",
    "    return df_new"
   ]
  },
  {
   "cell_type": "code",
   "execution_count": 27,
   "metadata": {},
   "outputs": [],
   "source": [
    "def screen_area(screen_resol: pd.Series):\n",
    "    return screen_resol.apply(lambda screen: np.prod([int(size) for size in screen.split('x')]))"
   ]
  },
  {
   "cell_type": "code",
   "execution_count": 28,
   "metadata": {},
   "outputs": [],
   "source": [
    "def visit_num_to_category(visit_num: pd.Series):\n",
    "    def get_cat(vn):\n",
    "        boundaries = (20, 100)\n",
    "        for i, val in enumerate(boundaries):\n",
    "            if val > vn:\n",
    "                return i\n",
    "        return len(boundaries)\n",
    "    return visit_num.apply(get_cat)"
   ]
  },
  {
   "cell_type": "code",
   "execution_count": 29,
   "metadata": {},
   "outputs": [],
   "source": [
    "def create_new_feat(df: pd.DataFrame, inplace=False):\n",
    "    df_new = df if inplace else df.copy()\n",
    "    df_new['screen_area'] = screen_area(df_new.device_screen_resolution)\n",
    "    df_new['visit_number_cat'] = visit_num_to_category(df_new.visit_number)\n",
    "    return df_new"
   ]
  },
  {
   "cell_type": "code",
   "execution_count": 30,
   "metadata": {},
   "outputs": [],
   "source": [
    "def scale_numeric_feat(df: pd.DataFrame, inplace=False):\n",
    "    df_new = df if inplace else df.copy()\n",
    "    scaler = StandardScaler()\n",
    "    df_new['screen_area_scl'] = scaler.fit_transform(df_new[['screen_area']])\n",
    "    return df_new"
   ]
  },
  {
   "cell_type": "code",
   "execution_count": 31,
   "metadata": {},
   "outputs": [],
   "source": [
    "def transform_datetime_feat(df: pd.DataFrame, inplace=False):\n",
    "    def transform_trigonomy(num, diap_min, diap_max):\n",
    "        arg = 2*np.pi * (diap_max - num) / (diap_max - diap_min)\n",
    "        return (np.cos(arg), np.sin(arg))\n",
    "    \n",
    "    df_new = df if inplace else df.copy()\n",
    "    df_new['weekday_c'] = df.visit_datetime.apply(lambda dt: transform_trigonomy(dt.weekday(), 0, 6)[0])\n",
    "    df_new['weekday_s'] = df.visit_datetime.apply(lambda dt: transform_trigonomy(dt.weekday(), 0, 6)[1])\n",
    "    df_new['day_of_year_c'] = df.visit_datetime.apply(lambda dt: transform_trigonomy(dt.dayofyear, 1, 366 if dt.is_leap_year else 365)[0])\n",
    "    df_new['day_of_year_s'] = df.visit_datetime.apply(lambda dt: transform_trigonomy(dt.dayofyear, 1, 366 if dt.is_leap_year else 365)[1])\n",
    "    df_new['time_c'] = df.visit_datetime.apply(lambda dt: transform_trigonomy(dt.hour * 60 + dt.minute, 0, 1439)[0])\n",
    "    df_new['time_s'] = df.visit_datetime.apply(lambda dt: transform_trigonomy(dt.hour * 60 + dt.minute, 0, 1439)[1])\n",
    "    return df_new"
   ]
  },
  {
   "cell_type": "code",
   "execution_count": 32,
   "metadata": {},
   "outputs": [],
   "source": [
    "def short_utm_feat(df: pd.DataFrame, inplace=False):\n",
    "    df_new = df if inplace else df.copy()\n",
    "    \n",
    "    df_new.utm_source = df_new.utm_source.apply(lambda s: s[:5])\n",
    "    df_new.utm_campaign = df_new.utm_campaign.apply(lambda s: s[:5])\n",
    "    df_new.utm_adcontent = df_new.utm_adcontent.apply(lambda s: s[:5])\n",
    "    return df_new"
   ]
  },
  {
   "cell_type": "code",
   "execution_count": 33,
   "metadata": {},
   "outputs": [],
   "source": [
    "def delete_columns(df: pd.DataFrame, inplace=False):\n",
    "    df_new = df if inplace else df.copy()\n",
    "    df_new.drop(['device_screen_resolution', 'visit_datetime', 'screen_area', 'visit_number'], axis=1, inplace=True)\n",
    "    return df_new"
   ]
  },
  {
   "cell_type": "code",
   "execution_count": 34,
   "metadata": {},
   "outputs": [],
   "source": [
    "def category_coder(df: pd.DataFrame, inplace=False):\n",
    "    df_new = df if inplace else df.copy()\n",
    "    ohe = OneHotEncoder(sparse=False)\n",
    "    obj_cols = list(df.dtypes[df.dtypes == 'object'].index)\n",
    "    ohe.fit(df[obj_cols])\n",
    "    df_new[ohe.get_feature_names()] = ohe.transform(df[obj_cols])\n",
    "    df_new.drop(obj_cols, axis=1, inplace=True)\n",
    "    return df_new"
   ]
  },
  {
   "cell_type": "code",
   "execution_count": 35,
   "metadata": {},
   "outputs": [],
   "source": [
    "def preprocess(df: pd.DataFrame):\n",
    "    df_new = df.copy()\n",
    "    df_new = delete_without_answer(df_new)\n",
    "    df_new = delete_data(df_new)\n",
    "    df_new = to_types(df_new)\n",
    "    df_new = create_new_feat(df_new)\n",
    "    df_new = scale_numeric_feat(df_new)\n",
    "    df_new = transform_datetime_feat(df_new)\n",
    "    df_new = short_utm_feat(df_new)\n",
    "    df_new = delete_columns(df_new)\n",
    "#     df_new = category_coder(df_new)\n",
    "    return df_new"
   ]
  },
  {
   "cell_type": "markdown",
   "metadata": {},
   "source": [
    "Конверсия 2.9%"
   ]
  },
  {
   "cell_type": "markdown",
   "metadata": {},
   "source": [
    "Идея: количество визитов преобразовать в категории разбив на интервалы"
   ]
  },
  {
   "cell_type": "code",
   "execution_count": 12,
   "metadata": {},
   "outputs": [],
   "source": [
    "df_old = df.copy()"
   ]
  },
  {
   "cell_type": "code",
   "execution_count": 36,
   "metadata": {},
   "outputs": [],
   "source": [
    "df = preprocess(df)"
   ]
  },
  {
   "cell_type": "markdown",
   "metadata": {},
   "source": [
    "## Загрузка обработанного датасета"
   ]
  },
  {
   "cell_type": "code",
   "execution_count": 2,
   "metadata": {},
   "outputs": [],
   "source": [
    "df = pd.read_csv(r\"data/session_prepared_0.csv\", index_col=0)"
   ]
  },
  {
   "cell_type": "code",
   "execution_count": 3,
   "metadata": {},
   "outputs": [
    {
     "data": {
      "text/plain": [
       "OneHotEncoder(sparse=False)"
      ]
     },
     "execution_count": 3,
     "metadata": {},
     "output_type": "execute_result"
    }
   ],
   "source": [
    "ohe = OneHotEncoder(sparse=False)\n",
    "obj_cols = list(df.dtypes[df.dtypes == 'object'].index)\n",
    "ohe.fit(df[obj_cols])"
   ]
  },
  {
   "cell_type": "code",
   "execution_count": 4,
   "metadata": {},
   "outputs": [],
   "source": [
    "feat_names = ohe.get_feature_names()\n",
    "fieldnames = list(df.columns) + list(feat_names) "
   ]
  },
  {
   "cell_type": "code",
   "execution_count": 5,
   "metadata": {},
   "outputs": [
    {
     "name": "stdout",
     "output_type": "stream",
     "text": [
      "1413265 / 1413265"
     ]
    }
   ],
   "source": [
    "with open(r\"data/session_prepared_1.csv\", 'w', newline='', encoding='utf-8') as file:\n",
    "    writer = csv.DictWriter(file, fieldnames=fieldnames)\n",
    "    writer.writeheader()\n",
    "    df_for_transform = df[obj_cols]\n",
    "    for i in range(df.shape[0]):\n",
    "        row = df.iloc[i].to_dict()\n",
    "        new_row = dict(zip(feat_names, ohe.transform(df_for_transform.iloc[[i]])))\n",
    "        new_row.update(row)\n",
    "        writer.writerow(new_row)\n",
    "        print(f'\\r{i + 1} / {df.shape[0]}', end='')\n",
    "    "
   ]
  },
  {
   "cell_type": "code",
   "execution_count": null,
   "metadata": {},
   "outputs": [],
   "source": []
  },
  {
   "cell_type": "code",
   "execution_count": null,
   "metadata": {},
   "outputs": [],
   "source": []
  }
 ],
 "metadata": {
  "kernelspec": {
   "display_name": "Python 3",
   "language": "python",
   "name": "python3"
  },
  "language_info": {
   "codemirror_mode": {
    "name": "ipython",
    "version": 3
   },
   "file_extension": ".py",
   "mimetype": "text/x-python",
   "name": "python",
   "nbconvert_exporter": "python",
   "pygments_lexer": "ipython3",
   "version": "3.7.6"
  }
 },
 "nbformat": 4,
 "nbformat_minor": 4
}
